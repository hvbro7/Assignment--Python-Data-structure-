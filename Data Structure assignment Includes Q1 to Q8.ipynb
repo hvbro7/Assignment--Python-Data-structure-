{
 "cells": [
  {
   "cell_type": "code",
   "execution_count": 2,
   "metadata": {},
   "outputs": [],
   "source": [
    "#Question 1.  Discuss string slicing and provide examples.\n",
    "\"\"\"\n",
    "     ANS :-  String slicing is a technique in Python that allows to extract a\n",
    "      specific portion of a string by specifying a start and end index. \n",
    "       The syntax for slicing is:\n",
    "       string[start:end:step]\n",
    "       start: The index where the slice begins (inclusive).\n",
    "       end: The index where the slice ends (exclusive ).\n",
    "       step: The interval between each index in the slice (optional).\"\"\"\n",
    "      \n",
    "my_string = \"Hello, World!\"\n",
    "sliced_string = my_string[0:5]  \n"
   ]
  },
  {
   "cell_type": "code",
   "execution_count": 3,
   "metadata": {},
   "outputs": [
    {
     "data": {
      "text/plain": [
       "'Hello'"
      ]
     },
     "execution_count": 3,
     "metadata": {},
     "output_type": "execute_result"
    }
   ],
   "source": [
    "sliced_string"
   ]
  },
  {
   "cell_type": "code",
   "execution_count": 4,
   "metadata": {},
   "outputs": [
    {
     "data": {
      "text/plain": [
       "'World!'"
      ]
     },
     "execution_count": 4,
     "metadata": {},
     "output_type": "execute_result"
    }
   ],
   "source": [
    "my_string = \"Hello, World!\"\n",
    "sliced_string = my_string[:5]   \n",
    "sliced_string = my_string[7:] \n",
    "sliced_string"
   ]
  },
  {
   "cell_type": "code",
   "execution_count": 7,
   "metadata": {},
   "outputs": [
    {
     "data": {
      "text/plain": [
       "'ANS \\n        Lists in Python are versatile and widely used data structures\\n        that allows to store ordered collections of items\\n        Key Features of list are :-\\n        1.Mutable\\n         Lists are mutable, meaning we can change, add, or remove elements after the list has been created.\\n         This includes modifying existing elements or appending new ones.\\n        2.Dynamic Sizing\\n         Lists can grow or shrink in size as we add or remove elements. \\n         We do not need to specify a size when we create a list.\\n        3.Ordered Collection\\n         Lists maintain the order of items based on their insertion sequence.\\n         The first item added is the first item in the list. \\n        4.Lists can hold elements of different data types, including integers,\\n         floats, strings, and even other lists. \\n        5.Indexing and Slicing\\n         We can access elements using zero-based indexing. Slicing allows us to extract parts of a list\\n          similar to strings.\\n        6.Nested Lists\\n         Lists can contain other lists as elements, allowing for the creation of multi-dimensional data structures \\n        7. Iteration\\n         We can easily iterate over lists using loops, which makes it simple to access each item.\\n'"
      ]
     },
     "execution_count": 7,
     "metadata": {},
     "output_type": "execute_result"
    }
   ],
   "source": [
    "#Question 2. Explain the key features of lists in Python.   \n",
    "'''ANS \n",
    "        Lists in Python are versatile and widely used data structures\n",
    "        that allows to store ordered collections of items\n",
    "        Key Features of list are :-\n",
    "        1.Mutable\n",
    "         Lists are mutable, meaning we can change, add, or remove elements after the list has been created.\n",
    "         This includes modifying existing elements or appending new ones.\n",
    "        2.Dynamic Sizing\n",
    "         Lists can grow or shrink in size as we add or remove elements. \n",
    "         We do not need to specify a size when we create a list.\n",
    "        3.Ordered Collection\n",
    "         Lists maintain the order of items based on their insertion sequence.\n",
    "         The first item added is the first item in the list. \n",
    "        4.Lists can hold elements of different data types, including integers,\n",
    "         floats, strings, and even other lists. \n",
    "        5.Indexing and Slicing\n",
    "         We can access elements using zero-based indexing. Slicing allows us to extract parts of a list\n",
    "          similar to strings.\n",
    "        6.Nested Lists\n",
    "         Lists can contain other lists as elements, allowing for the creation of multi-dimensional data structures \n",
    "        7. Iteration\n",
    "         We can easily iterate over lists using loops, which makes it simple to access each item.\n",
    "'''"
   ]
  },
  {
   "cell_type": "code",
   "execution_count": 8,
   "metadata": {},
   "outputs": [
    {
     "name": "stdout",
     "output_type": "stream",
     "text": [
      "apple banana date\n"
     ]
    }
   ],
   "source": [
    "#Question 3.Describe how to access, modify, and delete elements in a list with examples.\n",
    "\"\"\"ANS \n",
    "    Accesing:-\n",
    "     We can access elements in a list using their index.\"\"\"\n",
    "fruits = ['apple', 'banana', 'cherry', 'date']\n",
    "\n",
    "# Accessing elements\n",
    "first_fruit = fruits[0]     # 'apple'\n",
    "second_fruit = fruits[1]    # 'banana'\n",
    "last_fruit = fruits[-1]      # 'date' (negative index)\n",
    "\n",
    "print(first_fruit, second_fruit, last_fruit)\n",
    "\n",
    "\n"
   ]
  },
  {
   "cell_type": "code",
   "execution_count": 10,
   "metadata": {},
   "outputs": [
    {
     "name": "stdout",
     "output_type": "stream",
     "text": [
      "['apple', 'blueberry', 'cherry', 'fig']\n"
     ]
    }
   ],
   "source": [
    "'''Modifying Elements\n",
    "   To modify an element we can simply assign a new value to a specific index.'''\n",
    "fruits = ['apple', 'banana', 'cherry', 'date']\n",
    "\n",
    "# Modifying elements\n",
    "fruits[1] = 'blueberry'      # Change 'banana' to 'blueberry'\n",
    "fruits[-1] = 'fig'           # Change 'date' to 'fig'\n",
    "\n",
    "print(fruits)  \n"
   ]
  },
  {
   "cell_type": "code",
   "execution_count": 11,
   "metadata": {},
   "outputs": [
    {
     "name": "stdout",
     "output_type": "stream",
     "text": [
      "['apple', 'banana', 'date']\n"
     ]
    }
   ],
   "source": [
    "'''Deleting Elements\n",
    "   We can delete elements using the del statement'''\n",
    "fruits = ['apple', 'banana', 'cherry', 'date']\n",
    "del fruits[2]               # Removes 'cherry'\n",
    "\n",
    "print(fruits)  \n"
   ]
  },
  {
   "cell_type": "code",
   "execution_count": 12,
   "metadata": {},
   "outputs": [
    {
     "name": "stdout",
     "output_type": "stream",
     "text": [
      "['apple', 'cherry', 'date']\n"
     ]
    }
   ],
   "source": [
    "fruits = ['apple', 'banana', 'cherry', 'date']                 \n",
    "fruits.remove('banana')      # Removes 'banana'    # using remove statement\n",
    "\n",
    "print(fruits) \n"
   ]
  },
  {
   "cell_type": "code",
   "execution_count": 13,
   "metadata": {},
   "outputs": [
    {
     "name": "stdout",
     "output_type": "stream",
     "text": [
      "[10, 2, 3, 4]\n",
      "(1, 2, 3)\n"
     ]
    }
   ],
   "source": [
    "#Question 4.Compare and contrast tuples and lists with examples.\n",
    "'''ANS \n",
    "      Tuples and lists are both used to store collections of items in Python\n",
    "      but there are some differences in terms of mutability, syntax, and use cases.\n",
    "     1.  Lists are mutable, meaning we can modify them after creation (add, remove, or change items).\n",
    "         Tuples are immutable, meaning once they are created, we cannot change their content.'''\n",
    "#Example:\n",
    "# List\n",
    "my_list = [1, 2, 3]\n",
    "my_list[0] = 10           # Modifying an element\n",
    "my_list.append(4)        # Adding an element\n",
    "print(my_list)           \n",
    "\n",
    "# Tuple\n",
    "my_tuple = (1, 2, 3)\n",
    "# my_tuple[0] = 10       # This would raise an error\n",
    "# my_tuple.append(4)     # This would also raise an error\n",
    "print(my_tuple)          \n",
    "\n",
    "    "
   ]
  },
  {
   "cell_type": "code",
   "execution_count": 14,
   "metadata": {},
   "outputs": [],
   "source": [
    "''' 2. Lists use square brackets [].\n",
    "      Tuples use parentheses ().'''\n",
    "#Example:\n",
    "my_list = [1, 2, 3]            # List\n",
    "my_tuple = (1, 2, 3)           # Tuple\n"
   ]
  },
  {
   "cell_type": "code",
   "execution_count": 15,
   "metadata": {},
   "outputs": [
    {
     "name": "stdout",
     "output_type": "stream",
     "text": [
      "['apple', 'banana', 'cherry', 'date']\n",
      "(10, 20)\n"
     ]
    }
   ],
   "source": [
    "'''4. Use Cases\n",
    "Lists are typically used when we need a collection of items that may change (e.g., appending new elements).\n",
    "Tuples are often used to represent fixed collections of items\n",
    " such as coordinates or record where the data should not be changed.'''\n",
    "#Example:\n",
    "# List as a dynamic collection\n",
    "fruits = ['apple', 'banana', 'cherry']\n",
    "fruits.append('date')          # Adding an item\n",
    "print(fruits)                  \n",
    "\n",
    "# Tuple as a fixed collection\n",
    "point = (10, 20)               # A point in 2D space\n",
    "print(point)                   "
   ]
  },
  {
   "cell_type": "code",
   "execution_count": 16,
   "metadata": {},
   "outputs": [
    {
     "name": "stdout",
     "output_type": "stream",
     "text": [
      "{'apple', 'cherry', 'banana'}\n"
     ]
    }
   ],
   "source": [
    "#Question 5. Describe the key features of sets and provide examples of their use.\n",
    "'''ANS  \n",
    "       Sets are a built-in data structure in Python that represent unordered collections of unique elements.\n",
    "     :-  Key Features of Sets\n",
    "     1. Unordered Collection\n",
    "          Sets do not maintain the order of elements.\n",
    "         The elements are stored in a way that does not guarantee any specific order.\n",
    "     2. Unique Elements\n",
    "        A set automatically removes duplicate entries. Each element must be unique,\n",
    "        which makes sets useful for storing distinct items.\n",
    "     3. Mutable\n",
    "          Sets are mutable, meaning we can add or remove elements after the set has been created.\n",
    "         However, the elements themselves must be immutable (e.g., numbers, strings, tuples).\n",
    "     4. Dynamic Sizing\n",
    "          Sets can grow and shrink as needed, similar to lists.\n",
    "     5. Mathematical Set Operations\n",
    "          Sets does mathematical operations like union, intersection, difference, and symmetric difference.'''\n",
    "#eg ;-\n",
    "# Creating a set\n",
    "fruits = {'apple', 'banana', 'cherry'}\n",
    "print(fruits)  \n"
   ]
  },
  {
   "cell_type": "code",
   "execution_count": 17,
   "metadata": {},
   "outputs": [
    {
     "name": "stdout",
     "output_type": "stream",
     "text": [
      "{'apple', 'cherry', 'date', 'banana'}\n"
     ]
    }
   ],
   "source": [
    "fruits.add('date')               # Adding a new element\n",
    "print(fruits)                    "
   ]
  },
  {
   "cell_type": "code",
   "execution_count": 18,
   "metadata": {},
   "outputs": [
    {
     "name": "stdout",
     "output_type": "stream",
     "text": [
      "{'apple', 'cherry', 'date'}\n"
     ]
    }
   ],
   "source": [
    "fruits.remove('banana')          # Removes 'banana'\n",
    "print(fruits)                 \n",
    "\n",
    "# Using discard (does not raise an error if the element is not found)\n",
    "fruits.discard('orange')         # Does nothing, no error\n"
   ]
  },
  {
   "cell_type": "code",
   "execution_count": 19,
   "metadata": {},
   "outputs": [
    {
     "name": "stdout",
     "output_type": "stream",
     "text": [
      "Apple is in the set\n"
     ]
    }
   ],
   "source": [
    "if 'apple' in fruits:             #CHECKING membership\n",
    "    print(\"Apple is in the set\")  \n"
   ]
  },
  {
   "cell_type": "code",
   "execution_count": 20,
   "metadata": {},
   "outputs": [
    {
     "name": "stdout",
     "output_type": "stream",
     "text": [
      "{1, 2, 3, 4, 5}\n"
     ]
    }
   ],
   "source": [
    "set1 = {1, 2, 3}                # Union\n",
    "set2 = {3, 4, 5}\n",
    "union_set = set1.union(set2)    # or set1 | set2\n",
    "print(union_set)                 \n"
   ]
  },
  {
   "cell_type": "code",
   "execution_count": 21,
   "metadata": {},
   "outputs": [
    {
     "name": "stdout",
     "output_type": "stream",
     "text": [
      "{3}\n"
     ]
    }
   ],
   "source": [
    "intersection_set = set1.intersection(set2)  # or set1 & set2\n",
    "print(intersection_set)          # Intersection set\n"
   ]
  },
  {
   "cell_type": "code",
   "execution_count": 22,
   "metadata": {},
   "outputs": [
    {
     "name": "stdout",
     "output_type": "stream",
     "text": [
      "{1, 2}\n"
     ]
    }
   ],
   "source": [
    "difference_set = set1.difference(set2)       # or set1 - set2\n",
    "print(difference_set)            # Differnece \n"
   ]
  },
  {
   "cell_type": "code",
   "execution_count": 23,
   "metadata": {},
   "outputs": [
    {
     "name": "stdout",
     "output_type": "stream",
     "text": [
      "{1, 2, 4, 5}\n"
     ]
    }
   ],
   "source": [
    "symmetric_diff_set = set1.symmetric_difference(set2)  # or set1 ^ set2\n",
    "print(symmetric_diff_set)      # for symmetric difference\n"
   ]
  },
  {
   "cell_type": "code",
   "execution_count": 24,
   "metadata": {},
   "outputs": [],
   "source": [
    "#Question 6. Discuss the use cases of tuples and sets in Python programming. \n",
    "'''ANS   \n",
    "     Tuples USE CAses :-\n",
    "     Use Cases:\n",
    "\n",
    "     Immutable Collections: Use tuples when we need a collection of items that\n",
    "     should not change throughout the program. This is useful for fixed constants.\n",
    "\n",
    "     Returning Multiple Values: Functions can return multiple values as a tuple,\n",
    "     making it easy to return related data together.\n",
    "    \n",
    "     Dictionary Keys: Tuples can be used as keys in dictionaries because they are\n",
    "     hashable, while lists cannot. This is useful for creating complex keys that need to hold multiple attributes.'''\n",
    "locations = { (10, 20): \"A\", (30, 40): \"B\" }   #dictionary keys\n"
   ]
  },
  {
   "cell_type": "code",
   "execution_count": 25,
   "metadata": {},
   "outputs": [
    {
     "data": {
      "text/plain": [
       "{(10, 20): 'A', (30, 40): 'B'}"
      ]
     },
     "execution_count": 25,
     "metadata": {},
     "output_type": "execute_result"
    }
   ],
   "source": [
    "locations"
   ]
  },
  {
   "cell_type": "code",
   "execution_count": 28,
   "metadata": {},
   "outputs": [
    {
     "data": {
      "text/plain": [
       "{1, 2, 3}"
      ]
     },
     "execution_count": 28,
     "metadata": {},
     "output_type": "execute_result"
    }
   ],
   "source": [
    "'''Sets use cases :-\n",
    "1.   Removing Duplicates: Sets are ideal for removing duplicate items from a list.\n",
    "     Converting a list to a set automatically filters out duplicates.'''\n",
    "unique_items = set([1, 2, 2, 3])\n",
    "unique_items\n",
    "     "
   ]
  },
  {
   "cell_type": "code",
   "execution_count": 29,
   "metadata": {},
   "outputs": [
    {
     "name": "stdout",
     "output_type": "stream",
     "text": [
      "Found!\n"
     ]
    }
   ],
   "source": [
    "''' 2. Membership Testing: Sets provide efficient membership testing. Checking if an item exists \n",
    "in a set is faster than in a list due to the underlying hash table implementation.'''\n",
    "my_set = {1, 2, 3}\n",
    "if 2 in my_set:\n",
    "    print(\"Found!\")\n"
   ]
  },
  {
   "cell_type": "code",
   "execution_count": 31,
   "metadata": {},
   "outputs": [
    {
     "data": {
      "text/plain": [
       "{3}"
      ]
     },
     "execution_count": 31,
     "metadata": {},
     "output_type": "execute_result"
    }
   ],
   "source": [
    "'''3. Mathematical Set Operations: Sets support operations like union, intersection, and difference\n",
    "      making them useful for mathematical computations.'''\n",
    "set_a = {1, 2, 3}\n",
    "set_b = {2, 3, 4}\n",
    "intersection = set_a & set_b  # {2, 3}\n",
    "intersection_set"
   ]
  },
  {
   "cell_type": "code",
   "execution_count": 32,
   "metadata": {},
   "outputs": [
    {
     "name": "stdout",
     "output_type": "stream",
     "text": [
      "{'name': 'Alice', 'age': 25, 'city': 'New York'}\n"
     ]
    }
   ],
   "source": [
    "#Question 7.Describe how to add, modify, and delete items in a dictionary with examples.\n",
    "'''ANS      \n",
    "       Dictionaries in Python are mutable collections that store key value pairs.\n",
    "       Adding Items\n",
    "       We can add items to a dictionary by assigning a value to a new key.\n",
    "\n",
    "Example:'''\n",
    "# Create a dictionary\n",
    "my_dict = {'name': 'Alice', 'age': 25}\n",
    "\n",
    "# Add a new key-value pair\n",
    "my_dict['city'] = 'New York'\n",
    "\n",
    "print(my_dict)  \n"
   ]
  },
  {
   "cell_type": "code",
   "execution_count": 33,
   "metadata": {},
   "outputs": [
    {
     "name": "stdout",
     "output_type": "stream",
     "text": [
      "{'name': 'Alice', 'age': 26, 'city': 'New York'}\n"
     ]
    }
   ],
   "source": [
    "'''Modifying Items\n",
    "To modify an existing item we can simply assign a new value to an existing key.\n",
    "Example:'''            \n",
    "# Modify an existing key-value pair\n",
    "my_dict['age'] = 26\n",
    "\n",
    "print(my_dict)  \n"
   ]
  },
  {
   "cell_type": "code",
   "execution_count": 34,
   "metadata": {},
   "outputs": [
    {
     "name": "stdout",
     "output_type": "stream",
     "text": [
      "{'name': 'Alice', 'age': 26}\n"
     ]
    }
   ],
   "source": [
    "'''Deleting Items\n",
    "You can delete items from a dictionary using the del statement.\n",
    "\n",
    "Using del:'''               \n",
    "# Delete an item using del\n",
    "del my_dict['city']\n",
    "\n",
    "print(my_dict)  \n"
   ]
  },
  {
   "cell_type": "code",
   "execution_count": 35,
   "metadata": {},
   "outputs": [
    {
     "name": "stdout",
     "output_type": "stream",
     "text": [
      "{'name': 'Alice'}\n",
      "26\n"
     ]
    }
   ],
   "source": [
    "'''Using pop():'''\n",
    "# Delete an item using pop() and retrieve its value\n",
    "age = my_dict.pop('age')\n",
    "\n",
    "print(my_dict)  \n",
    "print(age)      \n"
   ]
  },
  {
   "cell_type": "code",
   "execution_count": 36,
   "metadata": {},
   "outputs": [
    {
     "name": "stdout",
     "output_type": "stream",
     "text": [
      "Alice\n"
     ]
    }
   ],
   "source": [
    "#Question 8.  Discuss the importance of dictionary keys being immutable and provide examples.\n",
    "'''ANS      \n",
    "      the keys of a dictionary must be immutable. This means that keys must be of a type that\n",
    "      cannot change after they are created, such as strings, numbers, and tuples\n",
    "      1. Hashing:\n",
    "      Dictionaries use a hashing mechanism to store and retrieve values efficiently.'''      \n",
    "# Immutable key (string)\n",
    "my_dict = {'name': 'Alice'}\n",
    "print(my_dict['name'])  \n",
    "\n",
    "\n",
    "\n"
   ]
  },
  {
   "cell_type": "code",
   "execution_count": 37,
   "metadata": {},
   "outputs": [
    {
     "name": "stdout",
     "output_type": "stream",
     "text": [
      "value1\n"
     ]
    }
   ],
   "source": [
    "'''2. Consistency:\n",
    "Having immutable keys ensures that the mapping between keys and values remains\n",
    "     consistent throughout the lifetime of the dictionary.'''            \n",
    "# Using a tuple as a key\n",
    "my_dict = {('a', 1): 'value1', ('b', 2): 'value2'}\n",
    "\n",
    "# Accessing the value using the tuple key\n",
    "print(my_dict[('a', 1)])  # Output: value1\n",
    "\n",
    "\n"
   ]
  },
  {
   "cell_type": "code",
   "execution_count": 38,
   "metadata": {},
   "outputs": [
    {
     "name": "stdout",
     "output_type": "stream",
     "text": [
      "value\n"
     ]
    }
   ],
   "source": [
    "'''3. Using Mutable Types as Keys:\n",
    "If mutable types (like lists or dictionaries) were allowed as keys, it could lead to unpredictable behavior.'''      \n",
    "# This will raise a TypeError because lists are mutable\n",
    "# my_dict = {[1, 2]: 'value'}  \n",
    "\n",
    "# Instead, use an immutable tuple\n",
    "my_dict = {(1, 2): 'value'}\n",
    "print(my_dict[(1, 2)])  # Output: value\n"
   ]
  },
  {
   "cell_type": "code",
   "execution_count": null,
   "metadata": {},
   "outputs": [],
   "source": [
    "'''4.Performance:\n",
    "    The immutability of keys contributes to the overall performance of dictionary operations.\n",
    "     Since the hash value remains constant....'''"
   ]
  }
 ],
 "metadata": {
  "kernelspec": {
   "display_name": "Python 3",
   "language": "python",
   "name": "python3"
  },
  "language_info": {
   "codemirror_mode": {
    "name": "ipython",
    "version": 3
   },
   "file_extension": ".py",
   "mimetype": "text/x-python",
   "name": "python",
   "nbconvert_exporter": "python",
   "pygments_lexer": "ipython3",
   "version": "3.11.5"
  }
 },
 "nbformat": 4,
 "nbformat_minor": 2
}
